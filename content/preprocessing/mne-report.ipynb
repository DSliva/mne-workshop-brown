{
 "cells": [
  {
   "cell_type": "markdown",
   "metadata": {},
   "source": [
    "# Quality assurance with MNE report\n",
    "\n",
    "Let's say we want to analyze 100 subjects."
   ]
  },
  {
   "cell_type": "markdown",
   "metadata": {},
   "source": [
    "How do we do quality assurancy in a scalable manner?"
   ]
  },
  {
   "cell_type": "code",
   "execution_count": 2,
   "metadata": {},
   "outputs": [],
   "source": [
    "from mne.report import Report"
   ]
  },
  {
   "cell_type": "code",
   "execution_count": 3,
   "metadata": {},
   "outputs": [
    {
     "name": "stdout",
     "output_type": "stream",
     "text": [
      "Embedding : jquery-1.10.2.min.js\n",
      "Embedding : jquery-ui.min.js\n",
      "Embedding : bootstrap.min.js\n",
      "Embedding : jquery-ui.min.css\n",
      "Embedding : bootstrap.min.css\n"
     ]
    }
   ],
   "source": [
    "rep = Report()"
   ]
  },
  {
   "cell_type": "markdown",
   "metadata": {},
   "source": [
    "A report contains:\n",
    "    * Figures\n",
    "    * Images\n",
    "    * Custom HTML\n",
    "    * Sliders"
   ]
  },
  {
   "cell_type": "markdown",
   "metadata": {},
   "source": [
    "First, let us generate some figures."
   ]
  },
  {
   "cell_type": "code",
   "execution_count": 36,
   "metadata": {},
   "outputs": [
    {
     "name": "stdout",
     "output_type": "stream",
     "text": [
      "Opening raw data file /home/mainak/Desktop/projects/github_repos/mne-python/examples/MNE-sample-data/MEG/sample/sample_audvis_raw.fif...\n",
      "    Read a total of 3 projection items:\n",
      "        PCA-v1 (1 x 102)  idle\n",
      "        PCA-v2 (1 x 102)  idle\n",
      "        PCA-v3 (1 x 102)  idle\n",
      "    Range : 25800 ... 192599 =     42.956 ...   320.670 secs\n",
      "Ready.\n",
      "Current compensation grade : 0\n",
      "Reading 0 ... 166799  =      0.000 ...   277.714 secs...\n"
     ]
    }
   ],
   "source": [
    "%matplotlib inline\n",
    "\n",
    "import mne\n",
    "from mne.datasets import sample\n",
    "\n",
    "data_path = sample.data_path()\n",
    "raw_fname = data_path + '/MEG/sample/sample_audvis_raw.fif'\n",
    "raw = mne.io.read_raw_fif(raw_fname, preload=True)"
   ]
  },
  {
   "cell_type": "markdown",
   "metadata": {},
   "source": [
    "Now let's pretend this data came from 3 different subjects"
   ]
  },
  {
   "cell_type": "code",
   "execution_count": 37,
   "metadata": {},
   "outputs": [],
   "source": [
    "raw1 = raw.copy().crop(0, 20)\n",
    "raw2 = raw.copy().crop(20, 40)\n",
    "raw3 = raw.copy().crop(40, 60)"
   ]
  },
  {
   "cell_type": "markdown",
   "metadata": {},
   "source": [
    "Now, we can have a function to go from raw to evoked"
   ]
  },
  {
   "cell_type": "code",
   "execution_count": 48,
   "metadata": {},
   "outputs": [],
   "source": [
    "event_id = {'Auditory/Left': 3, 'Auditory/Right': 4}\n",
    "\n",
    "def raw_to_evoked(raw, tmin=-0.1, tmax=0.5):\n",
    "    fig1 = raw.plot();\n",
    "    raw.filter(0, 40.)\n",
    "    \n",
    "    events = mne.find_events(raw, stim_channel='STI 014')\n",
    "    epochs = mne.Epochs(raw, events, event_id, tmin, tmaxe)\n",
    "    fig2 = epochs.plot();\n",
    "    \n",
    "    evoked_l = epochs['Left'].average();\n",
    "    fig3 = evoked_l.plot_topomap()\n",
    "    fig4 = evoked_l.plot();\n",
    "    \n",
    "    return [fig1, fig2, fig3, fig4]"
   ]
  },
  {
   "cell_type": "markdown",
   "metadata": {},
   "source": [
    "Now, we can do:"
   ]
  },
  {
   "cell_type": "code",
   "execution_count": 49,
   "metadata": {},
   "outputs": [],
   "source": [
    "%%capture\n",
    "figs = raw_to_evoked(raw1)"
   ]
  },
  {
   "cell_type": "markdown",
   "metadata": {},
   "source": [
    "And then, add these to the report"
   ]
  },
  {
   "cell_type": "code",
   "execution_count": 46,
   "metadata": {},
   "outputs": [
    {
     "name": "stdout",
     "output_type": "stream",
     "text": [
      "Report already exists at location /home/mainak/Desktop/projects/mne-workshop-brown/content/preprocessing/report_raw_to_evoked.html. Overwrite it (y/[n])? y\n",
      "Saving report to location /home/mainak/Desktop/projects/mne-workshop-brown/content/preprocessing/report_raw_to_evoked.html\n",
      "Rendering : Table of Contents\n",
      "custom\n",
      " ... Raw\n",
      " ... Epochs\n",
      " ... Topomap\n",
      " ... Butterfly\n",
      " ... Raw\n",
      " ... Epochs\n",
      " ... Topomap\n",
      " ... Butterfly\n",
      " ... Raw\n",
      " ... Epochs\n",
      " ... Topomap\n",
      " ... Butterfly\n"
     ]
    },
    {
     "data": {
      "text/plain": [
       "'/home/mainak/Desktop/projects/mne-workshop-brown/content/preprocessing/report_raw_to_evoked.html'"
      ]
     },
     "execution_count": 46,
     "metadata": {},
     "output_type": "execute_result"
    }
   ],
   "source": [
    "captions = ['Raw', 'Epochs', 'Topomap', 'Butterfly']\n",
    "rep.add_figs_to_section(figs, captions=captions)\n",
    "rep.save('report_raw_to_evoked.html')"
   ]
  },
  {
   "cell_type": "markdown",
   "metadata": {},
   "source": [
    "If you are in Jupyter lab environment, you can right click and say: \"open in new browser tab\""
   ]
  },
  {
   "cell_type": "markdown",
   "metadata": {},
   "source": [
    "We can go even more fancy. Let's try to process all the three subjects."
   ]
  },
  {
   "cell_type": "code",
   "execution_count": 50,
   "metadata": {},
   "outputs": [],
   "source": [
    "%%capture\n",
    "rep = Report()\n",
    "for idx, r in enumerate([raw1, raw2, raw3]):\n",
    "    figs = raw_to_evoked(r)\n",
    "    rep.add_figs_to_section(figs, captions=captions, section='Subject %02d' % idx)\n",
    "rep.save('report_raw_to_evoked.html', overwrite=True)"
   ]
  },
  {
   "cell_type": "markdown",
   "metadata": {},
   "source": [
    "There are tabs for each subject!"
   ]
  },
  {
   "cell_type": "markdown",
   "metadata": {},
   "source": [
    "What else can you do? You can inspect quality of the BEM with sliders."
   ]
  },
  {
   "cell_type": "code",
   "execution_count": 56,
   "metadata": {},
   "outputs": [
    {
     "name": "stdout",
     "output_type": "stream",
     "text": [
      "Embedding : jquery-1.10.2.min.js\n",
      "Embedding : jquery-ui.min.js\n",
      "Embedding : bootstrap.min.js\n",
      "Embedding : jquery-ui.min.css\n",
      "Embedding : bootstrap.min.css\n",
      "Report already exists at location /home/mainak/Desktop/projects/mne-workshop-brown/content/preprocessing/report_bem.html. Overwrite it (y/[n])? y\n",
      "Saving report to location /home/mainak/Desktop/projects/mne-workshop-brown/content/preprocessing/report_bem.html\n",
      "Rendering : Table of Contents\n",
      "bem\n",
      " ... BEM\n"
     ]
    },
    {
     "data": {
      "text/plain": [
       "'/home/mainak/Desktop/projects/mne-workshop-brown/content/preprocessing/report_bem.html'"
      ]
     },
     "execution_count": 56,
     "metadata": {},
     "output_type": "execute_result"
    }
   ],
   "source": [
    "subjects_dir = data_path + '/subjects'\n",
    "\n",
    "rep = Report()\n",
    "rep.add_bem_to_section(subject='sample', subjects_dir=subjects_dir, decim=36)\n",
    "rep.save('report_bem.html')"
   ]
  },
  {
   "cell_type": "markdown",
   "metadata": {},
   "source": [
    "Cherry on the cake"
   ]
  },
  {
   "cell_type": "markdown",
   "metadata": {},
   "source": [
    "We can even add custom htmls. For example, we can say:"
   ]
  },
  {
   "cell_type": "code",
   "execution_count": 76,
   "metadata": {},
   "outputs": [],
   "source": [
    "html = \"\"\"\n",
    "<table class=\"table table-hover\">\n",
    "   <tr>\n",
    "       <th>Meas time range</th>\n",
    "       <th>Sampling freq</th>\n",
    "   </tr>\n",
    "   <tr>\n",
    "       <td> %0.2f to %0.2f </td>\n",
    "       <td> %0.2f </td>\n",
    "   </tr>\n",
    "</table>\n",
    "\"\"\""
   ]
  },
  {
   "cell_type": "code",
   "execution_count": 77,
   "metadata": {},
   "outputs": [
    {
     "name": "stdout",
     "output_type": "stream",
     "text": [
      "Saving report to location /home/mainak/Desktop/projects/mne-workshop-brown/content/preprocessing/report_bem.html\n",
      "Rendering : Table of Contents\n",
      "bem\n",
      " ... BEM\n",
      "custom\n",
      " ... Info table\n",
      " ... Info table\n",
      " ... Info table\n"
     ]
    },
    {
     "data": {
      "text/plain": [
       "'/home/mainak/Desktop/projects/mne-workshop-brown/content/preprocessing/report_bem.html'"
      ]
     },
     "execution_count": 77,
     "metadata": {},
     "output_type": "execute_result"
    }
   ],
   "source": [
    "rep.add_htmls_to_section(html % (raw.times[0], raw.times[-1], raw.info['sfreq']), captions='Info table')\n",
    "rep.save('report_bem.html', overwrite=True)"
   ]
  },
  {
   "cell_type": "code",
   "execution_count": null,
   "metadata": {},
   "outputs": [],
   "source": [
    "And we can make our own sliders"
   ]
  },
  {
   "cell_type": "code",
   "execution_count": 87,
   "metadata": {},
   "outputs": [
    {
     "name": "stdout",
     "output_type": "stream",
     "text": [
      "Embedding : jquery-1.10.2.min.js\n",
      "Embedding : jquery-ui.min.js\n",
      "Embedding : bootstrap.min.js\n",
      "Embedding : jquery-ui.min.css\n",
      "Embedding : bootstrap.min.css\n",
      "Saving report to location /home/mainak/Desktop/projects/mne-workshop-brown/content/preprocessing/report_slider.html\n",
      "Rendering : Table of Contents\n",
      "Evoked Response\n",
      " ... Evoked Response\n"
     ]
    },
    {
     "data": {
      "text/plain": [
       "'/home/mainak/Desktop/projects/mne-workshop-brown/content/preprocessing/report_slider.html'"
      ]
     },
     "execution_count": 87,
     "metadata": {},
     "output_type": "execute_result"
    }
   ],
   "source": [
    "import matplotlib.pyplot as plt\n",
    "fname = data_path + '/MEG/sample/sample_audvis-ave.fif'\n",
    "evoked = mne.read_evokeds(fname, condition='Left Auditory',\n",
    "                          baseline=(None, 0), verbose=False)\n",
    "\n",
    "rep = Report()\n",
    "figs = list()\n",
    "times = evoked.times[::4]\n",
    "for time in times:\n",
    "    figs.append(evoked.plot_topomap(time, vmin=-300, vmax=300,\n",
    "                                    res=100, show=False))\n",
    "    plt.close(figs[-1])\n",
    "rep.add_slider_to_section(figs, times, 'Evoked Response')\n",
    "rep.save('report_slider.html')"
   ]
  }
 ],
 "metadata": {
  "kernelspec": {
   "display_name": "Python 3",
   "language": "python",
   "name": "python3"
  },
  "language_info": {
   "codemirror_mode": {
    "name": "ipython",
    "version": 3
   },
   "file_extension": ".py",
   "mimetype": "text/x-python",
   "name": "python",
   "nbconvert_exporter": "python",
   "pygments_lexer": "ipython3",
   "version": "3.6.7"
  }
 },
 "nbformat": 4,
 "nbformat_minor": 2
}
